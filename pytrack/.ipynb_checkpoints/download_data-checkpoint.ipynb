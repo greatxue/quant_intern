{
 "cells": [
  {
   "cell_type": "code",
   "execution_count": 1,
   "id": "0aed4b4e",
   "metadata": {},
   "outputs": [],
   "source": [
    "import pandas as pd\n",
    "import numpy as np\n",
    "import tushare as ts\n",
    "import os \n",
    "from tqdm import tqdm\n",
    "import glob\n",
    "debug = False\n",
    "from datetime import datetime "
   ]
  },
  {
   "cell_type": "code",
   "execution_count": 2,
   "id": "e38c2f13",
   "metadata": {},
   "outputs": [],
   "source": [
    "pro = ts.pro_api('20240522230128-d50d7a15-d7c5-47d4-bccc-25f6c754496a')\n",
    "pro._DataApi__http_url = 'http://tsapi.majors.ltd:7000'"
   ]
  },
  {
   "cell_type": "code",
   "execution_count": 3,
   "id": "3f9f0c4a",
   "metadata": {},
   "outputs": [
    {
     "data": {
      "text/html": [
       "<div>\n",
       "<style scoped>\n",
       "    .dataframe tbody tr th:only-of-type {\n",
       "        vertical-align: middle;\n",
       "    }\n",
       "\n",
       "    .dataframe tbody tr th {\n",
       "        vertical-align: top;\n",
       "    }\n",
       "\n",
       "    .dataframe thead th {\n",
       "        text-align: right;\n",
       "    }\n",
       "</style>\n",
       "<table border=\"1\" class=\"dataframe\">\n",
       "  <thead>\n",
       "    <tr style=\"text-align: right;\">\n",
       "      <th></th>\n",
       "      <th>ts_code</th>\n",
       "      <th>symbol</th>\n",
       "      <th>name</th>\n",
       "      <th>area</th>\n",
       "      <th>industry</th>\n",
       "      <th>list_date</th>\n",
       "    </tr>\n",
       "  </thead>\n",
       "  <tbody>\n",
       "    <tr>\n",
       "      <th>0</th>\n",
       "      <td>000001.SZ</td>\n",
       "      <td>000001</td>\n",
       "      <td>平安银行</td>\n",
       "      <td>深圳</td>\n",
       "      <td>银行</td>\n",
       "      <td>19910403</td>\n",
       "    </tr>\n",
       "    <tr>\n",
       "      <th>1</th>\n",
       "      <td>000002.SZ</td>\n",
       "      <td>000002</td>\n",
       "      <td>万科A</td>\n",
       "      <td>深圳</td>\n",
       "      <td>全国地产</td>\n",
       "      <td>19910129</td>\n",
       "    </tr>\n",
       "    <tr>\n",
       "      <th>2</th>\n",
       "      <td>000004.SZ</td>\n",
       "      <td>000004</td>\n",
       "      <td>国华网安</td>\n",
       "      <td>深圳</td>\n",
       "      <td>软件服务</td>\n",
       "      <td>19910114</td>\n",
       "    </tr>\n",
       "    <tr>\n",
       "      <th>3</th>\n",
       "      <td>000006.SZ</td>\n",
       "      <td>000006</td>\n",
       "      <td>深振业A</td>\n",
       "      <td>深圳</td>\n",
       "      <td>区域地产</td>\n",
       "      <td>19920427</td>\n",
       "    </tr>\n",
       "    <tr>\n",
       "      <th>4</th>\n",
       "      <td>000007.SZ</td>\n",
       "      <td>000007</td>\n",
       "      <td>*ST全新</td>\n",
       "      <td>深圳</td>\n",
       "      <td>其他商业</td>\n",
       "      <td>19920413</td>\n",
       "    </tr>\n",
       "  </tbody>\n",
       "</table>\n",
       "</div>"
      ],
      "text/plain": [
       "     ts_code  symbol   name area industry list_date\n",
       "0  000001.SZ  000001   平安银行   深圳       银行  19910403\n",
       "1  000002.SZ  000002    万科A   深圳     全国地产  19910129\n",
       "2  000004.SZ  000004   国华网安   深圳     软件服务  19910114\n",
       "3  000006.SZ  000006   深振业A   深圳     区域地产  19920427\n",
       "4  000007.SZ  000007  *ST全新   深圳     其他商业  19920413"
      ]
     },
     "execution_count": 3,
     "metadata": {},
     "output_type": "execute_result"
    }
   ],
   "source": [
    "trade_date = '20240530'\n",
    "stocklist = pro.stock_basic(exchange='', list_status='L', \n",
    "                            fields='ts_code, symbol, name, area, industry, list_date')\n",
    "stocklist.head()"
   ]
  },
  {
   "cell_type": "code",
   "execution_count": 4,
   "id": "fa63f109",
   "metadata": {},
   "outputs": [
    {
     "data": {
      "text/html": [
       "<div>\n",
       "<style scoped>\n",
       "    .dataframe tbody tr th:only-of-type {\n",
       "        vertical-align: middle;\n",
       "    }\n",
       "\n",
       "    .dataframe tbody tr th {\n",
       "        vertical-align: top;\n",
       "    }\n",
       "\n",
       "    .dataframe thead th {\n",
       "        text-align: right;\n",
       "    }\n",
       "</style>\n",
       "<table border=\"1\" class=\"dataframe\">\n",
       "  <thead>\n",
       "    <tr style=\"text-align: right;\">\n",
       "      <th></th>\n",
       "      <th>exchange</th>\n",
       "      <th>cal_date</th>\n",
       "      <th>is_open</th>\n",
       "      <th>pretrade_date</th>\n",
       "    </tr>\n",
       "  </thead>\n",
       "  <tbody>\n",
       "    <tr>\n",
       "      <th>0</th>\n",
       "      <td>SSE</td>\n",
       "      <td>20240430</td>\n",
       "      <td>1</td>\n",
       "      <td>20240429</td>\n",
       "    </tr>\n",
       "    <tr>\n",
       "      <th>1</th>\n",
       "      <td>SSE</td>\n",
       "      <td>20240429</td>\n",
       "      <td>1</td>\n",
       "      <td>20240426</td>\n",
       "    </tr>\n",
       "    <tr>\n",
       "      <th>4</th>\n",
       "      <td>SSE</td>\n",
       "      <td>20240426</td>\n",
       "      <td>1</td>\n",
       "      <td>20240425</td>\n",
       "    </tr>\n",
       "    <tr>\n",
       "      <th>5</th>\n",
       "      <td>SSE</td>\n",
       "      <td>20240425</td>\n",
       "      <td>1</td>\n",
       "      <td>20240424</td>\n",
       "    </tr>\n",
       "    <tr>\n",
       "      <th>6</th>\n",
       "      <td>SSE</td>\n",
       "      <td>20240424</td>\n",
       "      <td>1</td>\n",
       "      <td>20240423</td>\n",
       "    </tr>\n",
       "  </tbody>\n",
       "</table>\n",
       "</div>"
      ],
      "text/plain": [
       "  exchange  cal_date  is_open pretrade_date\n",
       "0      SSE  20240430        1      20240429\n",
       "1      SSE  20240429        1      20240426\n",
       "4      SSE  20240426        1      20240425\n",
       "5      SSE  20240425        1      20240424\n",
       "6      SSE  20240424        1      20240423"
      ]
     },
     "execution_count": 4,
     "metadata": {},
     "output_type": "execute_result"
    }
   ],
   "source": [
    "trade_cal = pro.trade_cal(exchange='', start_date='20220101', end_date='20240430')\n",
    "trade_cal = trade_cal[trade_cal.is_open==1]\n",
    "trade_cal.head()"
   ]
  },
  {
   "cell_type": "code",
   "execution_count": null,
   "id": "0aca78f0",
   "metadata": {},
   "outputs": [
    {
     "name": "stderr",
     "output_type": "stream",
     "text": [
      "100%|███████████████████████████████████████████| 30/30 [01:39<00:00,  3.32s/it]\n",
      "100%|███████████████████████████████████████████| 30/30 [01:39<00:00,  3.33s/it]\n",
      " 63%|███████████████████████████▏               | 19/30 [01:07<00:37,  3.38s/it]"
     ]
    },
    {
     "name": "stdout",
     "output_type": "stream",
     "text": [
      "('Connection aborted.', ConnectionResetError(54, 'Connection reset by peer'))\n"
     ]
    },
    {
     "name": "stderr",
     "output_type": "stream",
     "text": [
      "100%|███████████████████████████████████████████| 30/30 [01:47<00:00,  3.58s/it]\n",
      " 27%|███████████▋                                | 8/30 [00:22<01:01,  2.78s/it]"
     ]
    }
   ],
   "source": [
    "price_PD = []\n",
    "for trade_date in trade_cal.cal_date:\n",
    "    df = [] \n",
    "    for code in tqdm(stocklist.ts_code.head(30)):\n",
    "        tmp = ts.pro_bar(ts_code=code, adj='qfq', start_date=trade_date, end_date=trade_date, api=pro)\n",
    "        df.append(tmp)\n",
    "    df = pd.concat(df)\n",
    "    price_PD.append(df)\n",
    "    \n",
    "price_PD = pd.concat(price_PD).reset_index(drop=True)\n",
    "\n",
    "price_PD = price_PD.drop_duplicates().sort_values(['ts_code','trade_date']).reset_index(drop=True)\n",
    "price_PD.to_csv(f'price_PD.csv', index=False)  #'前复权' \n",
    "print(\"Data saved.\")\n"
   ]
  },
  {
   "cell_type": "code",
   "execution_count": null,
   "id": "75a67391",
   "metadata": {},
   "outputs": [],
   "source": [
    "price_PD = []\n",
    "for trade_date in trade_cal.cal_date:\n",
    "    df = [] \n",
    "    for code in tqdm(stocklist):\n",
    "        tmp = ts.pro_bar(ts_code=code, adj=None, start_date=trade_date, end_date=trade_date, api=pro)\n",
    "        df.append(tmp)\n",
    "    df = pd.concat(df)\n",
    "    price_PD.append(df)\n",
    "    \n",
    "price_PD = pd.concat(price_PD).reset_index(drop=True)\n",
    "\n",
    "price_PD = price_PD.drop_duplicates().sort_values(['ts_code','trade_date']).reset_index(drop=True)\n",
    "price_PD.to_csv('price_PD_unadj.csv', index=False)   #'未复权/除权'\n",
    "print(\"Data saved.\")"
   ]
  }
 ],
 "metadata": {
  "kernelspec": {
   "display_name": "Python 3 (ipykernel)",
   "language": "python",
   "name": "python3"
  },
  "language_info": {
   "codemirror_mode": {
    "name": "ipython",
    "version": 3
   },
   "file_extension": ".py",
   "mimetype": "text/x-python",
   "name": "python",
   "nbconvert_exporter": "python",
   "pygments_lexer": "ipython3",
   "version": "3.11.0"
  }
 },
 "nbformat": 4,
 "nbformat_minor": 5
}
