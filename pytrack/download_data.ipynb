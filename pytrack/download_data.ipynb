{
 "cells": [
  {
   "cell_type": "code",
   "execution_count": null,
   "id": "0aed4b4e",
   "metadata": {},
   "outputs": [],
   "source": [
    "import pandas as pd\n",
    "import numpy as np\n",
    "import tushare as ts\n",
    "import os \n",
    "from tqdm import tqdm\n",
    "import glob\n",
    "debug = False\n",
    "from datetime import datetime "
   ]
  },
  {
   "cell_type": "code",
   "execution_count": null,
   "id": "e38c2f13",
   "metadata": {},
   "outputs": [],
   "source": [
    "pro = ts.pro_api('20240522230128-d50d7a15-d7c5-47d4-bccc-25f6c754496a')\n",
    "pro._DataApi__http_url = 'http://tsapi.majors.ltd:7000'"
   ]
  },
  {
   "cell_type": "code",
   "execution_count": null,
   "id": "3f9f0c4a",
   "metadata": {},
   "outputs": [],
   "source": [
    "trade_date = '20240530'\n",
    "stocklist = pro.stock_basic(exchange='', list_status='L', \n",
    "                            fields='ts_code, symbol, name, area, industry, list_date')\n",
    "stocklist.head()"
   ]
  },
  {
   "cell_type": "code",
   "execution_count": null,
   "id": "fa63f109",
   "metadata": {},
   "outputs": [],
   "source": [
    "trade_cal = pro.trade_cal(exchange='', start_date='20220101', end_date='20240430')\n",
    "trade_cal = trade_cal[trade_cal.is_open==1]\n",
    "trade_cal.head()"
   ]
  },
  {
   "cell_type": "code",
   "execution_count": null,
   "id": "0aca78f0",
   "metadata": {},
   "outputs": [],
   "source": [
    "price_PD = []\n",
    "for trade_date in trade_cal.cal_date:\n",
    "    df = [] \n",
    "    for code in tqdm(stocklist.ts_code.head(30)):\n",
    "        tmp = ts.pro_bar(ts_code=code, adj='qfq', start_date=trade_date, end_date=trade_date, api=pro)\n",
    "        df.append(tmp)\n",
    "    df = pd.concat(df)\n",
    "    price_PD.append(df)\n",
    "    \n",
    "price_PD = pd.concat(price_PD).reset_index(drop=True)\n",
    "\n",
    "price_PD = price_PD.drop_duplicates().sort_values(['ts_code','trade_date']).reset_index(drop=True)\n",
    "price_PD.to_csv(f'price_PD.csv', index=False)  #前复权\n",
    "print(\"Data saved.\")\n"
   ]
  },
  {
   "cell_type": "code",
   "execution_count": null,
   "id": "75a67391",
   "metadata": {},
   "outputs": [],
   "source": [
    "price_PD = []\n",
    "for trade_date in trade_cal.cal_date:\n",
    "    df = [] \n",
    "    for code in tqdm(stocklist):\n",
    "        tmp = ts.pro_bar(ts_code=code, adj=None, start_date=trade_date, end_date=trade_date, api=pro)\n",
    "        df.append(tmp)\n",
    "    df = pd.concat(df)\n",
    "    price_PD.append(df)\n",
    "    \n",
    "price_PD = pd.concat(price_PD).reset_index(drop=True)\n",
    "\n",
    "price_PD = price_PD.drop_duplicates().sort_values(['ts_code','trade_date']).reset_index(drop=True)\n",
    "price_PD.to_csv('price_PD_unadj.csv', index=False)   #未复权/除权\n",
    "print(\"Data saved.\")"
   ]
  }
 ],
 "metadata": {
  "kernelspec": {
   "display_name": "Python 3 (ipykernel)",
   "language": "python",
   "name": "python3"
  },
  "language_info": {
   "codemirror_mode": {
    "name": "ipython",
    "version": 3
   },
   "file_extension": ".py",
   "mimetype": "text/x-python",
   "name": "python",
   "nbconvert_exporter": "python",
   "pygments_lexer": "ipython3",
   "version": "3.11.0"
  }
 },
 "nbformat": 4,
 "nbformat_minor": 5
}
