{
 "cells": [
  {
   "cell_type": "code",
   "execution_count": 1,
   "metadata": {},
   "outputs": [],
   "source": [
    "import os\n",
    "import pandas as pd\n",
    "import numpy as np"
   ]
  },
  {
   "cell_type": "code",
   "execution_count": 2,
   "metadata": {},
   "outputs": [
    {
     "name": "stdout",
     "output_type": "stream",
     "text": [
      "Index(['TDATE', 'TTIME', 'UPDATEMILLISEC', 'CONTRACTID', 'ExchangeInstID',\n",
      "       'CONTRACTNAME', 'LASTPX', 'HIGHPX', 'LOWPX', 'CQ', 'CM', 'OC', 'TQ',\n",
      "       'TM', 'LASTQTY', 'INITOPENINTS', 'OPENINTS', 'INTSCHG', 'RISELIMIT',\n",
      "       'FALLLIMIT', 'PRESETTLE', 'PRECLOSE', 'S1', 'B1', 'SV1', 'BV1',\n",
      "       'OPENPX', 'CLOSEPX', 'SETTLEMENTPX', 'LIFELOW', 'LIFEHIGH', 'AVGPX',\n",
      "       'BIDIMPLYQTY', 'ASKIMPLYQTY', 'BSRATIO', 'SIDE', 'MFLXID', 'MFLXNAME',\n",
      "       'S5', 'S4', 'S3', 'S2', 'B2', 'B3', 'B4', 'B5', 'SV5', 'SV4', 'SV3',\n",
      "       'SV2', 'BV2', 'BV3', 'BV4', 'BV5', 'PREDELTA', 'CURRDELTA', 'LOCALTM',\n",
      "       'MARKET', 'CHG', 'CHGPCT', 'VARIETIES', 'SETTLEGROUPID', 'SETTLEID',\n",
      "       'UNIX', 'CLEARINGDAY', 'MFLAG', 'SOURCE', 'CONTRACTCODE', 'Offset',\n",
      "       'TFLAG'],\n",
      "      dtype='object')\n"
     ]
    }
   ],
   "source": [
    "df = pd.read_csv('/Users/kevinshuey/massive_dataset/quant_intern/future_price20230628.txt', sep='\\t', header=0)\n",
    "print(df.columns)"
   ]
  },
  {
   "cell_type": "code",
   "execution_count": 3,
   "metadata": {
    "scrolled": false
   },
   "outputs": [
    {
     "name": "stdout",
     "output_type": "stream",
     "text": [
      "Missing LASTPX: 432\n",
      "Missing B1: 714\n",
      "Missing S1: 2303\n",
      "Missing AVGPX: 5344567\n",
      "Missing TQ: 0\n",
      "Missing OPENINTS: 0\n"
     ]
    }
   ],
   "source": [
    "df_u = df[['TDATE', 'TTIME', 'UPDATEMILLISEC', \n",
    "         'LASTPX', 'B1', 'S1', 'AVGPX', 'TQ', 'OPENINTS']]\n",
    "for i in ['LASTPX', 'B1', 'S1', 'AVGPX', 'TQ', 'OPENINTS']:\n",
    "    missing = df_u[i].isnull().sum()\n",
    "    print(f\"Missing {i}: {missing}\")"
   ]
  },
  {
   "cell_type": "code",
   "execution_count": 4,
   "metadata": {},
   "outputs": [],
   "source": [
    "df_u = df_u.dropna(subset=['LASTPX', 'S1', 'B1', 'AVGPX'])"
   ]
  },
  {
   "cell_type": "code",
   "execution_count": 20,
   "metadata": {
    "scrolled": false
   },
   "outputs": [
    {
     "data": {
      "text/html": [
       "<div>\n",
       "<style scoped>\n",
       "    .dataframe tbody tr th:only-of-type {\n",
       "        vertical-align: middle;\n",
       "    }\n",
       "\n",
       "    .dataframe tbody tr th {\n",
       "        vertical-align: top;\n",
       "    }\n",
       "\n",
       "    .dataframe thead th {\n",
       "        text-align: right;\n",
       "    }\n",
       "</style>\n",
       "<table border=\"1\" class=\"dataframe\">\n",
       "  <thead>\n",
       "    <tr style=\"text-align: right;\">\n",
       "      <th></th>\n",
       "      <th>TDATE</th>\n",
       "      <th>TTIME</th>\n",
       "      <th>UPDATEMILLISEC</th>\n",
       "      <th>LASTPX</th>\n",
       "      <th>B1</th>\n",
       "      <th>S1</th>\n",
       "      <th>AVGPX</th>\n",
       "      <th>TQ</th>\n",
       "      <th>OPENINTS</th>\n",
       "      <th>direction</th>\n",
       "      <th>dP</th>\n",
       "      <th>dOI</th>\n",
       "      <th>dVOL</th>\n",
       "    </tr>\n",
       "  </thead>\n",
       "  <tbody>\n",
       "    <tr>\n",
       "      <th>1</th>\n",
       "      <td>20230628.0</td>\n",
       "      <td>85900.0</td>\n",
       "      <td>4.0</td>\n",
       "      <td>13125.0</td>\n",
       "      <td>13125.0</td>\n",
       "      <td>13135.0</td>\n",
       "      <td>13125.0</td>\n",
       "      <td>4537.0</td>\n",
       "      <td>78428.0</td>\n",
       "      <td>BUY</td>\n",
       "      <td>0.0</td>\n",
       "      <td>-3.0</td>\n",
       "      <td>14.0</td>\n",
       "    </tr>\n",
       "    <tr>\n",
       "      <th>2</th>\n",
       "      <td>20230628.0</td>\n",
       "      <td>90000.0</td>\n",
       "      <td>484.0</td>\n",
       "      <td>13125.0</td>\n",
       "      <td>13120.0</td>\n",
       "      <td>13125.0</td>\n",
       "      <td>13120.0</td>\n",
       "      <td>4551.0</td>\n",
       "      <td>78425.0</td>\n",
       "      <td>BUY</td>\n",
       "      <td>5.0</td>\n",
       "      <td>5.0</td>\n",
       "      <td>32.0</td>\n",
       "    </tr>\n",
       "    <tr>\n",
       "      <th>3</th>\n",
       "      <td>20230628.0</td>\n",
       "      <td>90000.0</td>\n",
       "      <td>975.0</td>\n",
       "      <td>13130.0</td>\n",
       "      <td>13125.0</td>\n",
       "      <td>13135.0</td>\n",
       "      <td>13125.0</td>\n",
       "      <td>4583.0</td>\n",
       "      <td>78430.0</td>\n",
       "      <td>BUY</td>\n",
       "      <td>-5.0</td>\n",
       "      <td>0.0</td>\n",
       "      <td>9.0</td>\n",
       "    </tr>\n",
       "    <tr>\n",
       "      <th>4</th>\n",
       "      <td>20230628.0</td>\n",
       "      <td>90001.0</td>\n",
       "      <td>476.0</td>\n",
       "      <td>13125.0</td>\n",
       "      <td>13125.0</td>\n",
       "      <td>13130.0</td>\n",
       "      <td>13125.0</td>\n",
       "      <td>4592.0</td>\n",
       "      <td>78430.0</td>\n",
       "      <td>BUY</td>\n",
       "      <td>0.0</td>\n",
       "      <td>5.0</td>\n",
       "      <td>9.0</td>\n",
       "    </tr>\n",
       "    <tr>\n",
       "      <th>5</th>\n",
       "      <td>20230628.0</td>\n",
       "      <td>90001.0</td>\n",
       "      <td>960.0</td>\n",
       "      <td>13125.0</td>\n",
       "      <td>13120.0</td>\n",
       "      <td>13125.0</td>\n",
       "      <td>13125.0</td>\n",
       "      <td>4601.0</td>\n",
       "      <td>78435.0</td>\n",
       "      <td>BUY</td>\n",
       "      <td>-10.0</td>\n",
       "      <td>3.0</td>\n",
       "      <td>7.0</td>\n",
       "    </tr>\n",
       "  </tbody>\n",
       "</table>\n",
       "</div>"
      ],
      "text/plain": [
       "        TDATE    TTIME  UPDATEMILLISEC   LASTPX       B1       S1    AVGPX  \\\n",
       "1  20230628.0  85900.0             4.0  13125.0  13125.0  13135.0  13125.0   \n",
       "2  20230628.0  90000.0           484.0  13125.0  13120.0  13125.0  13120.0   \n",
       "3  20230628.0  90000.0           975.0  13130.0  13125.0  13135.0  13125.0   \n",
       "4  20230628.0  90001.0           476.0  13125.0  13125.0  13130.0  13125.0   \n",
       "5  20230628.0  90001.0           960.0  13125.0  13120.0  13125.0  13125.0   \n",
       "\n",
       "       TQ  OPENINTS direction    dP  dOI  dVOL  \n",
       "1  4537.0   78428.0       BUY   0.0 -3.0  14.0  \n",
       "2  4551.0   78425.0       BUY   5.0  5.0  32.0  \n",
       "3  4583.0   78430.0       BUY  -5.0  0.0   9.0  \n",
       "4  4592.0   78430.0       BUY   0.0  5.0   9.0  \n",
       "5  4601.0   78435.0       BUY -10.0  3.0   7.0  "
      ]
     },
     "execution_count": 20,
     "metadata": {},
     "output_type": "execute_result"
    }
   ],
   "source": [
    "df_pre = df_u.copy().shift(1).dropna()\n",
    "df_pre[\"dP\"] = df_u[\"LASTPX\"] - df_pre[\"LASTPX\"]\n",
    "df_pre[\"dOI\"] = df_u[\"OPENINTS\"] - df_pre[\"OPENINTS\"]\n",
    "df_pre[\"dVOL\"] = df_u[\"TQ\"] - df_pre[\"TQ\"]\n",
    "df_pre.head()"
   ]
  },
  {
   "cell_type": "code",
   "execution_count": 30,
   "metadata": {},
   "outputs": [
    {
     "ename": "ValueError",
     "evalue": "Can only compare identically-labeled Series objects",
     "output_type": "error",
     "traceback": [
      "\u001b[0;31m---------------------------------------------------------------------------\u001b[0m",
      "\u001b[0;31mValueError\u001b[0m                                Traceback (most recent call last)",
      "\u001b[0;32m/var/folders/h3/kst79dg57g18qj470505fpq40000gn/T/ipykernel_89364/3971335817.py\u001b[0m in \u001b[0;36m<cell line: 0>\u001b[0;34m()\u001b[0m\n\u001b[0;32m----> 1\u001b[0;31m \u001b[0mcondition_buy\u001b[0m \u001b[0;34m=\u001b[0m \u001b[0;34m(\u001b[0m\u001b[0mdf_u\u001b[0m\u001b[0;34m[\u001b[0m\u001b[0;34m'LASTPX'\u001b[0m\u001b[0;34m]\u001b[0m \u001b[0;34m>=\u001b[0m \u001b[0mdf_pre\u001b[0m\u001b[0;34m[\u001b[0m\u001b[0;34m'B1'\u001b[0m\u001b[0;34m]\u001b[0m\u001b[0;34m)\u001b[0m \u001b[0;34m|\u001b[0m \u001b[0;34m(\u001b[0m\u001b[0mdf_u\u001b[0m\u001b[0;34m[\u001b[0m\u001b[0;34m'LASTPX'\u001b[0m\u001b[0;34m]\u001b[0m \u001b[0;34m>=\u001b[0m \u001b[0mdf_u\u001b[0m\u001b[0;34m[\u001b[0m\u001b[0;34m'B1'\u001b[0m\u001b[0;34m]\u001b[0m\u001b[0;34m)\u001b[0m\u001b[0;34m\u001b[0m\u001b[0;34m\u001b[0m\u001b[0m\n\u001b[0m\u001b[1;32m      2\u001b[0m \u001b[0mcondition_sell\u001b[0m \u001b[0;34m=\u001b[0m \u001b[0;34m(\u001b[0m\u001b[0mdf_u\u001b[0m\u001b[0;34m[\u001b[0m\u001b[0;34m'LASTPX'\u001b[0m\u001b[0;34m]\u001b[0m \u001b[0;34m<=\u001b[0m\u001b[0mdf_pre\u001b[0m\u001b[0;34m[\u001b[0m\u001b[0;34m'S1'\u001b[0m\u001b[0;34m]\u001b[0m\u001b[0;34m)\u001b[0m \u001b[0;34m|\u001b[0m\u001b[0;34m(\u001b[0m\u001b[0mdf_u\u001b[0m\u001b[0;34m[\u001b[0m\u001b[0;34m'LASTPX'\u001b[0m\u001b[0;34m]\u001b[0m \u001b[0;34m<=\u001b[0m \u001b[0mdf_u\u001b[0m\u001b[0;34m[\u001b[0m\u001b[0;34m'S1'\u001b[0m\u001b[0;34m]\u001b[0m\u001b[0;34m)\u001b[0m\u001b[0;34m\u001b[0m\u001b[0;34m\u001b[0m\u001b[0m\n\u001b[1;32m      3\u001b[0m \u001b[0mdirection_val\u001b[0m \u001b[0;34m=\u001b[0m \u001b[0mnp\u001b[0m\u001b[0;34m.\u001b[0m\u001b[0mwhere\u001b[0m\u001b[0;34m(\u001b[0m\u001b[0mcondition_buy\u001b[0m\u001b[0;34m,\u001b[0m \u001b[0;34m'BUY'\u001b[0m\u001b[0;34m,\u001b[0m \u001b[0mnp\u001b[0m\u001b[0;34m.\u001b[0m\u001b[0mwhere\u001b[0m\u001b[0;34m(\u001b[0m\u001b[0mcondition_sell\u001b[0m\u001b[0;34m,\u001b[0m \u001b[0;34m'SELL'\u001b[0m\u001b[0;34m,\u001b[0m \u001b[0;34m'Unclassified'\u001b[0m\u001b[0;34m)\u001b[0m\u001b[0;34m)\u001b[0m\u001b[0;34m\u001b[0m\u001b[0;34m\u001b[0m\u001b[0m\n\u001b[1;32m      4\u001b[0m \u001b[0;34m\u001b[0m\u001b[0m\n\u001b[1;32m      5\u001b[0m \u001b[0mdf_u\u001b[0m\u001b[0;34m[\u001b[0m\u001b[0;34m'direction'\u001b[0m\u001b[0;34m]\u001b[0m \u001b[0;34m=\u001b[0m \u001b[0mpd\u001b[0m\u001b[0;34m.\u001b[0m\u001b[0mSeries\u001b[0m\u001b[0;34m(\u001b[0m\u001b[0mdirection_val\u001b[0m\u001b[0;34m,\u001b[0m \u001b[0mindex\u001b[0m\u001b[0;34m=\u001b[0m\u001b[0mdf_u\u001b[0m\u001b[0;34m.\u001b[0m\u001b[0mindex\u001b[0m\u001b[0;34m)\u001b[0m\u001b[0;34m\u001b[0m\u001b[0;34m\u001b[0m\u001b[0m\n",
      "\u001b[0;32m/Library/Frameworks/Python.framework/Versions/3.11/lib/python3.11/site-packages/pandas/core/ops/common.py\u001b[0m in \u001b[0;36mnew_method\u001b[0;34m(self, other)\u001b[0m\n\u001b[1;32m     70\u001b[0m         \u001b[0mother\u001b[0m \u001b[0;34m=\u001b[0m \u001b[0mitem_from_zerodim\u001b[0m\u001b[0;34m(\u001b[0m\u001b[0mother\u001b[0m\u001b[0;34m)\u001b[0m\u001b[0;34m\u001b[0m\u001b[0;34m\u001b[0m\u001b[0m\n\u001b[1;32m     71\u001b[0m \u001b[0;34m\u001b[0m\u001b[0m\n\u001b[0;32m---> 72\u001b[0;31m         \u001b[0;32mreturn\u001b[0m \u001b[0mmethod\u001b[0m\u001b[0;34m(\u001b[0m\u001b[0mself\u001b[0m\u001b[0;34m,\u001b[0m \u001b[0mother\u001b[0m\u001b[0;34m)\u001b[0m\u001b[0;34m\u001b[0m\u001b[0;34m\u001b[0m\u001b[0m\n\u001b[0m\u001b[1;32m     73\u001b[0m \u001b[0;34m\u001b[0m\u001b[0m\n\u001b[1;32m     74\u001b[0m     \u001b[0;32mreturn\u001b[0m \u001b[0mnew_method\u001b[0m\u001b[0;34m\u001b[0m\u001b[0;34m\u001b[0m\u001b[0m\n",
      "\u001b[0;32m/Library/Frameworks/Python.framework/Versions/3.11/lib/python3.11/site-packages/pandas/core/arraylike.py\u001b[0m in \u001b[0;36m__ge__\u001b[0;34m(self, other)\u001b[0m\n\u001b[1;32m     60\u001b[0m     \u001b[0;34m@\u001b[0m\u001b[0munpack_zerodim_and_defer\u001b[0m\u001b[0;34m(\u001b[0m\u001b[0;34m\"__ge__\"\u001b[0m\u001b[0;34m)\u001b[0m\u001b[0;34m\u001b[0m\u001b[0;34m\u001b[0m\u001b[0m\n\u001b[1;32m     61\u001b[0m     \u001b[0;32mdef\u001b[0m \u001b[0m__ge__\u001b[0m\u001b[0;34m(\u001b[0m\u001b[0mself\u001b[0m\u001b[0;34m,\u001b[0m \u001b[0mother\u001b[0m\u001b[0;34m)\u001b[0m\u001b[0;34m:\u001b[0m\u001b[0;34m\u001b[0m\u001b[0;34m\u001b[0m\u001b[0m\n\u001b[0;32m---> 62\u001b[0;31m         \u001b[0;32mreturn\u001b[0m \u001b[0mself\u001b[0m\u001b[0;34m.\u001b[0m\u001b[0m_cmp_method\u001b[0m\u001b[0;34m(\u001b[0m\u001b[0mother\u001b[0m\u001b[0;34m,\u001b[0m \u001b[0moperator\u001b[0m\u001b[0;34m.\u001b[0m\u001b[0mge\u001b[0m\u001b[0;34m)\u001b[0m\u001b[0;34m\u001b[0m\u001b[0;34m\u001b[0m\u001b[0m\n\u001b[0m\u001b[1;32m     63\u001b[0m \u001b[0;34m\u001b[0m\u001b[0m\n\u001b[1;32m     64\u001b[0m     \u001b[0;31m# -------------------------------------------------------------\u001b[0m\u001b[0;34m\u001b[0m\u001b[0;34m\u001b[0m\u001b[0m\n",
      "\u001b[0;32m/Library/Frameworks/Python.framework/Versions/3.11/lib/python3.11/site-packages/pandas/core/series.py\u001b[0m in \u001b[0;36m_cmp_method\u001b[0;34m(self, other, op)\u001b[0m\n\u001b[1;32m   6235\u001b[0m \u001b[0;34m\u001b[0m\u001b[0m\n\u001b[1;32m   6236\u001b[0m         \u001b[0;32mif\u001b[0m \u001b[0misinstance\u001b[0m\u001b[0;34m(\u001b[0m\u001b[0mother\u001b[0m\u001b[0;34m,\u001b[0m \u001b[0mSeries\u001b[0m\u001b[0;34m)\u001b[0m \u001b[0;32mand\u001b[0m \u001b[0;32mnot\u001b[0m \u001b[0mself\u001b[0m\u001b[0;34m.\u001b[0m\u001b[0m_indexed_same\u001b[0m\u001b[0;34m(\u001b[0m\u001b[0mother\u001b[0m\u001b[0;34m)\u001b[0m\u001b[0;34m:\u001b[0m\u001b[0;34m\u001b[0m\u001b[0;34m\u001b[0m\u001b[0m\n\u001b[0;32m-> 6237\u001b[0;31m             \u001b[0;32mraise\u001b[0m \u001b[0mValueError\u001b[0m\u001b[0;34m(\u001b[0m\u001b[0;34m\"Can only compare identically-labeled Series objects\"\u001b[0m\u001b[0;34m)\u001b[0m\u001b[0;34m\u001b[0m\u001b[0;34m\u001b[0m\u001b[0m\n\u001b[0m\u001b[1;32m   6238\u001b[0m \u001b[0;34m\u001b[0m\u001b[0m\n\u001b[1;32m   6239\u001b[0m         \u001b[0mlvalues\u001b[0m \u001b[0;34m=\u001b[0m \u001b[0mself\u001b[0m\u001b[0;34m.\u001b[0m\u001b[0m_values\u001b[0m\u001b[0;34m\u001b[0m\u001b[0;34m\u001b[0m\u001b[0m\n",
      "\u001b[0;31mValueError\u001b[0m: Can only compare identically-labeled Series objects"
     ]
    }
   ],
   "source": [
    "condition_buy = (df_u['LASTPX'] >= df_pre['B1']) | (df_u['LASTPX'] >= df_u['B1'])\n",
    "condition_sell = (df_u['LASTPX'] <=df_pre['S1']) |(df_u['LASTPX'] <= df_u['S1'])\n",
    "direction_values = np.where(condition_buy, 'BUY', np.where(condition_sell, 'SELL', 'Unclassified'))\n",
    "\n",
    "df_u['direction'] = pd.Series(direction_values, index=df_u.index)\n",
    "df_u.head()"
   ]
  },
  {
   "cell_type": "code",
   "execution_count": 29,
   "metadata": {},
   "outputs": [
    {
     "name": "stdout",
     "output_type": "stream",
     "text": [
      "Buy total 35189.0, sell total 39726.0.\n"
     ]
    }
   ],
   "source": [
    "df_buy = df_pre[df_pre['direction'] == 'BUY']\n",
    "df_sell = df_pre[df_pre['direction'] == 'SELL']\n",
    "\n",
    "print(f\"Buy total {abs(df_buy.dVOL.sum())}, sell total {abs(df_sell.dVOL.sum())}.\")"
   ]
  }
 ],
 "metadata": {
  "kernelspec": {
   "display_name": "Python 3 (ipykernel)",
   "language": "python",
   "name": "python3"
  },
  "language_info": {
   "codemirror_mode": {
    "name": "ipython",
    "version": 3
   },
   "file_extension": ".py",
   "mimetype": "text/x-python",
   "name": "python",
   "nbconvert_exporter": "python",
   "pygments_lexer": "ipython3",
   "version": "3.11.0"
  }
 },
 "nbformat": 4,
 "nbformat_minor": 2
}
